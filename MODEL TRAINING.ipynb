{
 "cells": [
  {
   "cell_type": "markdown",
   "id": "e2c14f4e",
   "metadata": {},
   "source": [
    "![image info](https://ineuron.ai/images/ineuron-logo.png)"
   ]
  },
  {
   "cell_type": "markdown",
   "id": "a45ab8e8",
   "metadata": {},
   "source": [
    "## 1. Problem Statement:\n",
    "- To perform exploratory data analysis to find important insights into salaries of data science professionals."
   ]
  },
  {
   "cell_type": "markdown",
   "id": "9edb0e8c",
   "metadata": {},
   "source": [
    "## 2) Data Collection.\n",
    "* The Dataset is collected from https://www.kaggle.com/datasets/saurabhshahane/data-science-jobs-salaries\n",
    "* The data consists of 11 column and 607 rows."
   ]
  },
  {
   "cell_type": "markdown",
   "id": "49dbc6da",
   "metadata": {},
   "source": [
    "### 2.1 Import Data and Required Packages\n",
    "#### Importing Pandas, Numpy, Matplotlib, Seaborn and Warings Library."
   ]
  },
  {
   "cell_type": "code",
   "execution_count": 1,
   "id": "395e36f6",
   "metadata": {},
   "outputs": [],
   "source": [
    "import pandas as pd\n",
    "import numpy as np\n",
    "import matplotlib.pyplot as plt\n",
    "import seaborn as sns\n",
    "import warnings                                                                                                                                                                                                                                                                                                                                                                                                                                                                                                                                                                                                                                                                                                                                                                                                                                                                                                                                                                                                                                                                                                                                                                                                                                                                                                                                                                                                                                                                                                                                                                                                                                                                                                                                                                                                                                                                                                                                                                                                                                                                                                                                                                                                                                                                                                                                                                                                                     \n",
    "warnings.filterwarnings(\"ignore\")\n",
    "import pycountry\n",
    "%matplotlib inline\n",
    "from sklearn.model_selection import train_test_split\n",
    "from sklearn.preprocessing import LabelEncoder\n",
    "\n",
    "from xgboost import XGBRegressor\n",
    "from sklearn.linear_model import Lasso, Ridge\n",
    "from sklearn.linear_model import ElasticNet, BayesianRidge\n",
    "from sklearn.svm import SVR\n",
    "from sklearn.ensemble import GradientBoostingRegressor, RandomForestRegressor\n",
    "\n",
    "from sklearn.metrics import r2_score\n",
    "from sklearn.metrics import mean_squared_error\n",
    "from sklearn.model_selection import cross_validate, GridSearchCV\n",
    "from sklearn import metrics\n",
    "from sklearn.preprocessing import Normalizer, StandardScaler"
   ]
  },
  {
   "cell_type": "markdown",
   "id": "b40bfa1b",
   "metadata": {},
   "source": [
    "#### Import the CSV Data as Pandas DataFrame"
   ]
  },
  {
   "cell_type": "code",
   "execution_count": 2,
   "id": "7daf08ee",
   "metadata": {},
   "outputs": [
    {
     "data": {
      "text/plain": [
       "(607, 9)"
      ]
     },
     "execution_count": 2,
     "metadata": {},
     "output_type": "execute_result"
    }
   ],
   "source": [
    "df = pd.read_csv('data/ds_feature_eng')"
   ]
  },
  {
   "cell_type": "markdown",
   "id": "74478193",
   "metadata": {},
   "source": [
    "#### Shape of the dataset"
   ]
  },
  {
   "cell_type": "code",
   "execution_count": 33,
   "id": "5f0bf4f2",
   "metadata": {},
   "outputs": [
    {
     "data": {
      "text/plain": [
       "(607, 9)"
      ]
     },
     "execution_count": 33,
     "metadata": {},
     "output_type": "execute_result"
    }
   ],
   "source": [
    "df.shape"
   ]
  },
  {
   "cell_type": "markdown",
   "id": "e3a72a81",
   "metadata": {},
   "source": [
    "#### Show Top 5 Records"
   ]
  },
  {
   "cell_type": "code",
   "execution_count": 3,
   "id": "1f551846",
   "metadata": {},
   "outputs": [
    {
     "data": {
      "text/html": [
       "<div>\n",
       "<style scoped>\n",
       "    .dataframe tbody tr th:only-of-type {\n",
       "        vertical-align: middle;\n",
       "    }\n",
       "\n",
       "    .dataframe tbody tr th {\n",
       "        vertical-align: top;\n",
       "    }\n",
       "\n",
       "    .dataframe thead th {\n",
       "        text-align: right;\n",
       "    }\n",
       "</style>\n",
       "<table border=\"1\" class=\"dataframe\">\n",
       "  <thead>\n",
       "    <tr style=\"text-align: right;\">\n",
       "      <th></th>\n",
       "      <th>work_year</th>\n",
       "      <th>experience_level</th>\n",
       "      <th>employment_type</th>\n",
       "      <th>employee_residence</th>\n",
       "      <th>remote_ratio</th>\n",
       "      <th>company_location</th>\n",
       "      <th>company_size</th>\n",
       "      <th>Updated_Job_Title</th>\n",
       "      <th>salary</th>\n",
       "    </tr>\n",
       "  </thead>\n",
       "  <tbody>\n",
       "    <tr>\n",
       "      <th>0</th>\n",
       "      <td>2020</td>\n",
       "      <td>MI</td>\n",
       "      <td>FT</td>\n",
       "      <td>DE</td>\n",
       "      <td>0</td>\n",
       "      <td>DE</td>\n",
       "      <td>L</td>\n",
       "      <td>Data Scientist</td>\n",
       "      <td>282298.507798</td>\n",
       "    </tr>\n",
       "    <tr>\n",
       "      <th>1</th>\n",
       "      <td>2020</td>\n",
       "      <td>SE</td>\n",
       "      <td>FT</td>\n",
       "      <td>Others</td>\n",
       "      <td>0</td>\n",
       "      <td>Others</td>\n",
       "      <td>S</td>\n",
       "      <td>Machine Learning Engineer</td>\n",
       "      <td>508303.346029</td>\n",
       "    </tr>\n",
       "    <tr>\n",
       "      <th>2</th>\n",
       "      <td>2020</td>\n",
       "      <td>SE</td>\n",
       "      <td>FT</td>\n",
       "      <td>GB</td>\n",
       "      <td>50</td>\n",
       "      <td>GB</td>\n",
       "      <td>M</td>\n",
       "      <td>Data Engineer</td>\n",
       "      <td>331608.782411</td>\n",
       "    </tr>\n",
       "    <tr>\n",
       "      <th>3</th>\n",
       "      <td>2020</td>\n",
       "      <td>MI</td>\n",
       "      <td>FT</td>\n",
       "      <td>Others</td>\n",
       "      <td>0</td>\n",
       "      <td>Others</td>\n",
       "      <td>S</td>\n",
       "      <td>Data Analyst</td>\n",
       "      <td>130268.251078</td>\n",
       "    </tr>\n",
       "    <tr>\n",
       "      <th>4</th>\n",
       "      <td>2020</td>\n",
       "      <td>SE</td>\n",
       "      <td>FT</td>\n",
       "      <td>US</td>\n",
       "      <td>50</td>\n",
       "      <td>US</td>\n",
       "      <td>L</td>\n",
       "      <td>Machine Learning Engineer</td>\n",
       "      <td>389306.822476</td>\n",
       "    </tr>\n",
       "  </tbody>\n",
       "</table>\n",
       "</div>"
      ],
      "text/plain": [
       "   work_year experience_level employment_type employee_residence  \\\n",
       "0       2020               MI              FT                 DE   \n",
       "1       2020               SE              FT             Others   \n",
       "2       2020               SE              FT                 GB   \n",
       "3       2020               MI              FT             Others   \n",
       "4       2020               SE              FT                 US   \n",
       "\n",
       "   remote_ratio company_location company_size          Updated_Job_Title  \\\n",
       "0             0               DE            L             Data Scientist   \n",
       "1             0           Others            S  Machine Learning Engineer   \n",
       "2            50               GB            M              Data Engineer   \n",
       "3             0           Others            S               Data Analyst   \n",
       "4            50               US            L  Machine Learning Engineer   \n",
       "\n",
       "          salary  \n",
       "0  282298.507798  \n",
       "1  508303.346029  \n",
       "2  331608.782411  \n",
       "3  130268.251078  \n",
       "4  389306.822476  "
      ]
     },
     "execution_count": 3,
     "metadata": {},
     "output_type": "execute_result"
    }
   ],
   "source": [
    "df.head(5)"
   ]
  },
  {
   "cell_type": "markdown",
   "id": "370ebae7",
   "metadata": {},
   "source": [
    "#### Check Datatypes in the dataset"
   ]
  },
  {
   "cell_type": "code",
   "execution_count": 34,
   "id": "0f0a75c1",
   "metadata": {},
   "outputs": [
    {
     "name": "stdout",
     "output_type": "stream",
     "text": [
      "<class 'pandas.core.frame.DataFrame'>\n",
      "RangeIndex: 607 entries, 0 to 606\n",
      "Data columns (total 9 columns):\n",
      " #   Column              Non-Null Count  Dtype  \n",
      "---  ------              --------------  -----  \n",
      " 0   work_year           607 non-null    int64  \n",
      " 1   experience_level    607 non-null    int32  \n",
      " 2   employment_type     607 non-null    int32  \n",
      " 3   employee_residence  607 non-null    int32  \n",
      " 4   remote_ratio        607 non-null    int64  \n",
      " 5   company_location    607 non-null    int32  \n",
      " 6   company_size        607 non-null    int32  \n",
      " 7   Updated_Job_Title   607 non-null    int32  \n",
      " 8   salary              607 non-null    float64\n",
      "dtypes: float64(1), int32(6), int64(2)\n",
      "memory usage: 28.6 KB\n"
     ]
    }
   ],
   "source": [
    "df.info()"
   ]
  },
  {
   "cell_type": "code",
   "execution_count": 4,
   "id": "0263700f",
   "metadata": {},
   "outputs": [],
   "source": [
    "numeric_features = [feature for feature in df.columns if df[feature].dtype != 'O']\n",
    "num_df = df[numeric_features]"
   ]
  },
  {
   "cell_type": "code",
   "execution_count": 5,
   "id": "e65ac39a",
   "metadata": {},
   "outputs": [
    {
     "data": {
      "image/png": "[encoded data removed]",
      "text/plain": [
       "<Figure size 1584x1296 with 3 Axes>"
      ]
     },
     "metadata": {
      "needs_background": "light"
     },
     "output_type": "display_data"
    }
   ],
   "source": [
    "plt.figure(figsize=(22,18))\n",
    "for i,col in enumerate(num_df.columns):\n",
    "    plt.subplot(4,9,i+1)\n",
    "    sns.boxplot(num_df[col])"
   ]
  },
  {
   "cell_type": "code",
   "execution_count": 6,
   "id": "91dd3390",
   "metadata": {},
   "outputs": [
    {
     "data": {
      "image/png": "[encoded data removed]",
      "text/plain": [
       "<Figure size 1080x288 with 2 Axes>"
      ]
     },
     "metadata": {
      "needs_background": "light"
     },
     "output_type": "display_data"
    }
   ],
   "source": [
    "    plt.figure(figsize=(15,4))\n",
    "    plt.subplot(121)\n",
    "    sns.distplot(df['salary'], label=\"skew: \" + str(np.round(df['salary'].skew(),2)))\n",
    "    plt.legend()\n",
    "    plt.subplot(122)\n",
    "    sns.boxplot(df['salary'])\n",
    "    plt.tight_layout()\n",
    "    plt.show()"
   ]
  },
  {
   "cell_type": "code",
   "execution_count": 7,
   "id": "c9473c80",
   "metadata": {},
   "outputs": [],
   "source": [
    "df_cap = df.copy()"
   ]
  },
  {
   "cell_type": "markdown",
   "id": "7488378b",
   "metadata": {},
   "source": [
    "#### Interquartile Range Method( IQR ) method\n",
    "#### Why are we capping it and why not trim it ?\n",
    "\n",
    "- Trimming outliers may result in the removal of a large number of records from this dataset as we have already very less rows so this isn’t desirable in this case since columns other than the ones containing the outlier values may contain useful information.\n",
    "\n",
    "- In this cases, you can use outlier capping to replace the outlier values with a maximum or minimum capped values. Be warned, this manipulates our data but we can replace outlier values by the upper and lower limit calculated using the IQR range."
   ]
  },
  {
   "cell_type": "code",
   "execution_count": 8,
   "id": "3ea61934",
   "metadata": {},
   "outputs": [],
   "source": [
    "def iqr_capping(df, col, factor):\n",
    "     \n",
    "    q1 = df[col].quantile(0.25)\n",
    "    q3 = df[col].quantile(0.75)\n",
    "\n",
    "    iqr = q3 - q1\n",
    "\n",
    "    upper_whisker = q3 + (factor*iqr)\n",
    "    lower_whisker = q1 - (factor*iqr)\n",
    "\n",
    "    df[col] = np.where(df[col]>upper_whisker, upper_whisker,\n",
    "    np.where(df[col]<lower_whisker, lower_whisker, df[col]))"
   ]
  },
  {
   "cell_type": "code",
   "execution_count": 9,
   "id": "9348ce7c",
   "metadata": {},
   "outputs": [],
   "source": [
    "iqr_capping(df_cap, 'salary', 1.5)"
   ]
  },
  {
   "cell_type": "markdown",
   "id": "e2955443",
   "metadata": {},
   "source": [
    "#### After Outliers Capping"
   ]
  },
  {
   "cell_type": "code",
   "execution_count": 10,
   "id": "58f15bdb",
   "metadata": {},
   "outputs": [
    {
     "data": {
      "image/png": "[encoded data removed]",
      "text/plain": [
       "<Figure size 1152x288 with 4 Axes>"
      ]
     },
     "metadata": {
      "needs_background": "light"
     },
     "output_type": "display_data"
    }
   ],
   "source": [
    "plt.figure(figsize=(16,4))\n",
    "    \n",
    "plt.subplot(141)\n",
    "sns.distplot(df['salary'], label=\"skew: \" + str(np.round(df[col].skew(),2)))\n",
    "plt.title('Before')\n",
    "plt.legend()\n",
    "\n",
    "plt.subplot(142)\n",
    "sns.distplot(df_cap['salary'], label=\"skew: \" + str(np.round(df_cap[col].skew(),2)))\n",
    "plt.title('After')\n",
    "plt.legend()\n",
    "\n",
    "plt.subplot(143)\n",
    "sns.boxplot(df['salary'])\n",
    "plt.title('Before')\n",
    "\n",
    "plt.subplot(144)\n",
    "sns.boxplot(df_cap['salary'])\n",
    "plt.title('After')\n",
    "plt.tight_layout()\n",
    "plt.show()"
   ]
  },
  {
   "cell_type": "markdown",
   "id": "64e1f5db",
   "metadata": {},
   "source": [
    "#### Compare Skewness"
   ]
  },
  {
   "cell_type": "code",
   "execution_count": 11,
   "id": "67028cc4",
   "metadata": {},
   "outputs": [
    {
     "data": {
      "text/plain": [
       "0.013615414121353477"
      ]
     },
     "execution_count": 11,
     "metadata": {},
     "output_type": "execute_result"
    }
   ],
   "source": [
    "df['salary'].skew()"
   ]
  },
  {
   "cell_type": "code",
   "execution_count": 12,
   "id": "1d9f3a95",
   "metadata": {},
   "outputs": [
    {
     "data": {
      "text/plain": [
       "-0.14176411428213861"
      ]
     },
     "execution_count": 12,
     "metadata": {},
     "output_type": "execute_result"
    }
   ],
   "source": [
    "df_cap['salary'].skew()"
   ]
  },
  {
   "cell_type": "markdown",
   "id": "ea1823a0",
   "metadata": {},
   "source": [
    "### Multicollinearity Check\n",
    "#### Variance Inflation Factor (VIF)\n",
    "- Multicollinearity occurs when there are two or more independent variables in a multiple regression model, which have a high correlation among themselves. When some features are highly correlated.\n",
    "- Multicollinearity can be detected using various techniques, one such technique being the Variance Inflation Factor(VIF)."
   ]
  },
  {
   "cell_type": "code",
   "execution_count": 22,
   "id": "56e76fd0",
   "metadata": {},
   "outputs": [],
   "source": [
    "from statsmodels.stats.outliers_influence import variance_inflation_factor\n",
    "def compute_vif(considered_features, df):\n",
    "    \n",
    "    X = df[considered_features]\n",
    "    # the calculation of variance inflation requires a constant\n",
    "    X['intercept'] = 1\n",
    "    \n",
    "    # create dataframe to store vif values\n",
    "    vif = pd.DataFrame()\n",
    "    vif[\"Variable\"] = X.columns\n",
    "    vif[\"VIF\"] = [variance_inflation_factor(X.values, i) for i in range(X.shape[1])]\n",
    "    vif = vif[vif['Variable']!='intercept']\n",
    "    return vif"
   ]
  },
  {
   "cell_type": "code",
   "execution_count": 24,
   "id": "e30e4223",
   "metadata": {},
   "outputs": [
    {
     "data": {
      "text/html": [
       "<div>\n",
       "<style scoped>\n",
       "    .dataframe tbody tr th:only-of-type {\n",
       "        vertical-align: middle;\n",
       "    }\n",
       "\n",
       "    .dataframe tbody tr th {\n",
       "        vertical-align: top;\n",
       "    }\n",
       "\n",
       "    .dataframe thead th {\n",
       "        text-align: right;\n",
       "    }\n",
       "</style>\n",
       "<table border=\"1\" class=\"dataframe\">\n",
       "  <thead>\n",
       "    <tr style=\"text-align: right;\">\n",
       "      <th></th>\n",
       "      <th>Variable</th>\n",
       "      <th>VIF</th>\n",
       "    </tr>\n",
       "  </thead>\n",
       "  <tbody>\n",
       "    <tr>\n",
       "      <th>0</th>\n",
       "      <td>work_year</td>\n",
       "      <td>1.060969</td>\n",
       "    </tr>\n",
       "    <tr>\n",
       "      <th>1</th>\n",
       "      <td>remote_ratio</td>\n",
       "      <td>1.023083</td>\n",
       "    </tr>\n",
       "    <tr>\n",
       "      <th>2</th>\n",
       "      <td>salary</td>\n",
       "      <td>1.077040</td>\n",
       "    </tr>\n",
       "  </tbody>\n",
       "</table>\n",
       "</div>"
      ],
      "text/plain": [
       "       Variable       VIF\n",
       "0     work_year  1.060969\n",
       "1  remote_ratio  1.023083\n",
       "2        salary  1.077040"
      ]
     },
     "execution_count": 24,
     "metadata": {},
     "output_type": "execute_result"
    }
   ],
   "source": [
    "compute_vif(numeric_features, df)"
   ]
  },
  {
   "cell_type": "markdown",
   "id": "aab46c7c",
   "metadata": {},
   "source": [
    "#### A VIF of 1 for a given independent variable indicates the total absence of collinearity between this variable and other predictors in the model\n",
    "- 1 = not correlated.\n",
    "- Between 1 and 5 = moderately correlated.\n",
    "- Greater than 5 = highly correlated."
   ]
  },
  {
   "cell_type": "markdown",
   "id": "3ef3157c",
   "metadata": {},
   "source": [
    "### Feature Encoding and Scaling"
   ]
  },
  {
   "cell_type": "code",
   "execution_count": 13,
   "id": "41abda03",
   "metadata": {},
   "outputs": [],
   "source": [
    "label_encoder = LabelEncoder()\n",
    "df['experience_level']= label_encoder.fit_transform(df['experience_level'])\n",
    "df['employment_type']= label_encoder.fit_transform(df['employment_type'])\n",
    "df['Updated_Job_Title']= label_encoder.fit_transform(df['Updated_Job_Title'])\n",
    "df['employee_residence']= label_encoder.fit_transform(df['employee_residence'])\n",
    "df['company_location']= label_encoder.fit_transform(df['company_location'])\n",
    "df['company_size']= label_encoder.fit_transform(df['company_size'])"
   ]
  },
  {
   "cell_type": "code",
   "execution_count": 14,
   "id": "a092ad47",
   "metadata": {},
   "outputs": [],
   "source": [
    "X = df.drop(labels = ['salary'], axis = 1)\n",
    "y = df[['salary']]"
   ]
  },
  {
   "cell_type": "code",
   "execution_count": 15,
   "id": "efff17bb",
   "metadata": {},
   "outputs": [],
   "source": [
    "scaler = StandardScaler()\n",
    "x_scaled = scaler.fit_transform(X)"
   ]
  },
  {
   "cell_type": "markdown",
   "id": "b55b153f",
   "metadata": {},
   "source": [
    "#### Train Test Split"
   ]
  },
  {
   "cell_type": "markdown",
   "id": "6cfb046e",
   "metadata": {},
   "source": [
    "- The train-test split procedure is used to estimate the performance of machine learning algorithms when they are used to make predictions on data not used to train the model.\n",
    "- It is a fast and easy procedure to perform, the results of which allow you to compare the performance of machine learning algorithms."
   ]
  },
  {
   "cell_type": "code",
   "execution_count": 16,
   "id": "7a8dca72",
   "metadata": {},
   "outputs": [],
   "source": [
    "x_train, x_test, y_train, y_test = train_test_split(x_scaled, y, test_size=0.2, random_state=42)"
   ]
  },
  {
   "cell_type": "markdown",
   "id": "5874d43d",
   "metadata": {},
   "source": [
    "#### Model Selection\n",
    "- Here should understand the Various Classification models with default values from these models we can choose top 4 with Highest Accuracy score and proceed with HyperParameter Tuning"
   ]
  },
  {
   "cell_type": "code",
   "execution_count": 17,
   "id": "d2ed90db",
   "metadata": {},
   "outputs": [
    {
     "data": {
      "text/html": [
       "<div>\n",
       "<style scoped>\n",
       "    .dataframe tbody tr th:only-of-type {\n",
       "        vertical-align: middle;\n",
       "    }\n",
       "\n",
       "    .dataframe tbody tr th {\n",
       "        vertical-align: top;\n",
       "    }\n",
       "\n",
       "    .dataframe thead th {\n",
       "        text-align: right;\n",
       "    }\n",
       "</style>\n",
       "<table border=\"1\" class=\"dataframe\">\n",
       "  <thead>\n",
       "    <tr style=\"text-align: right;\">\n",
       "      <th></th>\n",
       "      <th>Model</th>\n",
       "      <th>Avg_RMSE</th>\n",
       "    </tr>\n",
       "  </thead>\n",
       "  <tbody>\n",
       "    <tr>\n",
       "      <th>6</th>\n",
       "      <td>Gradient Boosting</td>\n",
       "      <td>72340.464431</td>\n",
       "    </tr>\n",
       "    <tr>\n",
       "      <th>0</th>\n",
       "      <td>XGB</td>\n",
       "      <td>80714.03126</td>\n",
       "    </tr>\n",
       "    <tr>\n",
       "      <th>4</th>\n",
       "      <td>Bayesian Ridge</td>\n",
       "      <td>91005.16478</td>\n",
       "    </tr>\n",
       "    <tr>\n",
       "      <th>2</th>\n",
       "      <td>Ridge</td>\n",
       "      <td>91068.873034</td>\n",
       "    </tr>\n",
       "    <tr>\n",
       "      <th>1</th>\n",
       "      <td>Lasso</td>\n",
       "      <td>91082.242917</td>\n",
       "    </tr>\n",
       "    <tr>\n",
       "      <th>3</th>\n",
       "      <td>Elastic Net</td>\n",
       "      <td>91837.818956</td>\n",
       "    </tr>\n",
       "    <tr>\n",
       "      <th>5</th>\n",
       "      <td>SVR</td>\n",
       "      <td>107375.713466</td>\n",
       "    </tr>\n",
       "  </tbody>\n",
       "</table>\n",
       "</div>"
      ],
      "text/plain": [
       "               Model       Avg_RMSE\n",
       "6  Gradient Boosting   72340.464431\n",
       "0                XGB    80714.03126\n",
       "4     Bayesian Ridge    91005.16478\n",
       "2              Ridge   91068.873034\n",
       "1              Lasso   91082.242917\n",
       "3        Elastic Net   91837.818956\n",
       "5                SVR  107375.713466"
      ]
     },
     "execution_count": 17,
     "metadata": {},
     "output_type": "execute_result"
    }
   ],
   "source": [
    "model = {\n",
    "    'XGB' : XGBRegressor(),\n",
    "    'Lasso' : Lasso(),\n",
    "    'Ridge' : Ridge(),\n",
    "    'Elastic Net' : ElasticNet(),\n",
    "    'Bayesian Ridge' : BayesianRidge(),\n",
    "    'SVR' : SVR(),\n",
    "    'Gradient Boosting' : GradientBoostingRegressor()\n",
    "}\n",
    "\n",
    "result = pd.DataFrame(columns=['Model', 'Avg_RMSE'])\n",
    "\n",
    "for name, mod in model.items():\n",
    "    model = mod\n",
    "    crossvad = cross_validate(model, x_train, y_train, cv=10, scoring=(['neg_root_mean_squared_error']))\n",
    "    result = result.append({'Model' : name, 'Avg_RMSE' : np.abs(crossvad['test_neg_root_mean_squared_error']).mean()}, ignore_index=True)\n",
    "\n",
    "result = result.sort_values('Avg_RMSE', ascending=True)\n",
    "result.reset_index(drop=True)\n",
    "result"
   ]
  },
  {
   "cell_type": "code",
   "execution_count": 26,
   "id": "b5affa0f",
   "metadata": {},
   "outputs": [
    {
     "name": "stdout",
     "output_type": "stream",
     "text": [
      "Best hyperparameter :  {'learning_rate': 0.1, 'loss': 'absolute_error', 'n_estimators': 100}\n"
     ]
    }
   ],
   "source": [
    "gb = GradientBoostingRegressor(random_state=42)\n",
    "params = {\n",
    "    'loss' : ('squared_error', 'absolute_error'),\n",
    "    'learning_rate' : (1.0, 0.1, 0.01),\n",
    "    'n_estimators' : (50, 100, 200)\n",
    "}\n",
    "\n",
    "model1 = GridSearchCV(gb, params, cv=10)\n",
    "model1.fit(x_train, y_train)\n",
    "print('Best hyperparameter : ', model1.best_params_)"
   ]
  },
  {
   "cell_type": "code",
   "execution_count": 31,
   "id": "ac422bef",
   "metadata": {},
   "outputs": [
    {
     "name": "stdout",
     "output_type": "stream",
     "text": [
      "Train RMSE : 64411.64295856864\n"
     ]
    }
   ],
   "source": [
    "y_pred = model1.predict(x_train)\n",
    "print(f'Train RMSE : {mean_squared_error(y_train, y_pred, squared=False)}')"
   ]
  },
  {
   "cell_type": "code",
   "execution_count": 28,
   "id": "2916b788",
   "metadata": {},
   "outputs": [
    {
     "name": "stdout",
     "output_type": "stream",
     "text": [
      "Best hyperparameter :  {'learning_rate': 0.1, 'max_depth': 3, 'n_estimators': 50}\n"
     ]
    }
   ],
   "source": [
    "xgb = XGBRegressor(random_state=42)\n",
    "params = {\n",
    "    'max_depth' : (3, 6, 9),\n",
    "    'learning_rate' : (0.3, 0.1, 0.05),\n",
    "    'n_estimators' : (50, 100, 200)\n",
    "}\n",
    "\n",
    "model2 = GridSearchCV(xgb, params, cv=10)\n",
    "model2.fit(x_train, y_train)\n",
    "print('Best hyperparameter : ', model2.best_params_)"
   ]
  },
  {
   "cell_type": "code",
   "execution_count": 30,
   "id": "75034bcf",
   "metadata": {},
   "outputs": [
    {
     "name": "stdout",
     "output_type": "stream",
     "text": [
      "Train RMSE : 62002.94854934175\n"
     ]
    }
   ],
   "source": [
    "y_pred = model2.predict(x_train)\n",
    "print(f'Train RMSE : {mean_squared_error(y_train, y_pred, squared=False)}')"
   ]
  },
  {
   "cell_type": "code",
   "execution_count": 35,
   "id": "6b1266b0",
   "metadata": {},
   "outputs": [],
   "source": [
    "\n",
    "import pickle\n",
    " \n",
    "# Save the trained model as a pickle file.\n",
    "pickle.dump(model2, open('models/model.pkl', 'wb'))"
   ]
  },
  {
   "cell_type": "code",
   "execution_count": null,
   "id": "459be7ed",
   "metadata": {},
   "outputs": [],
   "source": []
  }
 ],
 "metadata": {
  "kernelspec": {
   "display_name": "Python 3 (ipykernel)",
   "language": "python",
   "name": "python3"
  },
  "language_info": {
   "codemirror_mode": {
    "name": "ipython",
    "version": 3
   },
   "file_extension": ".py",
   "mimetype": "text/x-python",
   "name": "python",
   "nbconvert_exporter": "python",
   "pygments_lexer": "ipython3",
   "version": "3.9.12"
  }
 },
 "nbformat": 4,
 "nbformat_minor": 5
}
